{
 "cells": [
  {
   "cell_type": "code",
   "execution_count": 75,
   "metadata": {
    "colab": {
     "base_uri": "https://localhost:8080/",
     "height": 1000
    },
    "id": "3ANwmkZn70eN",
    "outputId": "bf8fe8e3-921a-40ee-da2f-96853498380e"
   },
   "outputs": [
    {
     "name": "stdout",
     "output_type": "stream",
     "text": [
      "    0                               1              2                    3   \\\n",
      "0                     Name of the cell  Date of cell   Did the cell happen   \n",
      "1            Sethu baskara school cell      18-7-2023                  Yes   \n",
      "2       Emmanuel methodist church cell      16-7-2023                   No   \n",
      "3       Emmanuel methodist church cell       9-7-2023                   No   \n",
      "4            Sethu baskara school cell      25-7-2023                  Yes   \n",
      "..  ..                             ...            ...                  ...   \n",
      "991                                                                          \n",
      "992                                                                          \n",
      "993                                                                          \n",
      "994                                                                          \n",
      "995                                                                          \n",
      "\n",
      "                           4                                          5   \\\n",
      "0    No. of students attended                          Students attended   \n",
      "1                           9  Samuel, Caleb Juda, Joshua, Calvin, Jabez   \n",
      "2                                                                          \n",
      "3                                                                          \n",
      "4                          10          Samuel, Caleb Juda, Calvin, Jabez   \n",
      "..                        ...                                        ...   \n",
      "991                                                                        \n",
      "992                                                                        \n",
      "993                                                                        \n",
      "994                                                                        \n",
      "995                                                                        \n",
      "\n",
      "                                                    6   \\\n",
      "0                                         New students   \n",
      "1                                Everyone new student    \n",
      "2                                                        \n",
      "3                                                        \n",
      "4    3 new students \\n1.Thirumalai Vasan (Non-belie...   \n",
      "..                                                 ...   \n",
      "991                                                      \n",
      "992                                                      \n",
      "993                                                      \n",
      "994                                                      \n",
      "995                                                      \n",
      "\n",
      "                                    7                            8   \\\n",
      "0            Details of cell happening         Bible study taken by   \n",
      "1    Singing, Practical talk, Activity  Staff/ Ministrial assistant   \n",
      "2                                                                     \n",
      "3                                                                     \n",
      "4       Singing, Bible study, Activity  Staff/ Ministrial assistant   \n",
      "..                                 ...                          ...   \n",
      "991                                                                   \n",
      "992                                                                   \n",
      "993                                                                   \n",
      "994                                                                   \n",
      "995                                                                   \n",
      "\n",
      "                             9                              10 11 12 13 14  \\\n",
      "0                   Cell led by                        Remarks               \n",
      "1    Staff/Ministrial assistant                                              \n",
      "2                                Youth members didn't turn up.               \n",
      "3                                    We couldn't go to church.               \n",
      "4    Staff/Ministrial assistant                                              \n",
      "..                          ...                            ... .. .. .. ..   \n",
      "991                                                                          \n",
      "992                                                                          \n",
      "993                                                                          \n",
      "994                                                                          \n",
      "995                                                                          \n",
      "\n",
      "                                 15           16         17       18  \n",
      "0                         Cell list  Week number  From date  To date  \n",
      "1       Mar Gregorious college cell           29  18-7-2023     None  \n",
      "2      St. Thomas college boys cell           29  16-7-2023     None  \n",
      "3           Korattur area boys cell           28   9-7-2023     None  \n",
      "4    Emmanuel methodist school cell           30  7/25/2023     None  \n",
      "..                              ...          ...        ...      ...  \n",
      "991                                           52       None     None  \n",
      "992                                           52       None     None  \n",
      "993                                           52       None     None  \n",
      "994                                           52       None     None  \n",
      "995                                           52       None     None  \n",
      "\n",
      "[996 rows x 19 columns]\n"
     ]
    }
   ],
   "source": [
    "import pandas as pd\n",
    "from google.oauth2 import service_account\n",
    "from googleapiclient.discovery import build\n",
    "\n",
    "\n",
    "creds = service_account.Credentials.from_service_account_file(\n",
    "    'details-401417-63737f81ecd9.json',\n",
    "    scopes=['https://www.googleapis.com/auth/spreadsheets']\n",
    ")\n",
    "\n",
    "\n",
    "service = build('sheets', 'v4', credentials=creds)\n",
    "sheet = service.spreadsheets()\n",
    "result = sheet.values().get(spreadsheetId='1gA16KuX-sIB573dyHp1uLDyiOtELX7WkkQycaxU2dWM', range='Consolidated').execute()\n",
    "\n",
    "df = pd.DataFrame(result.get('values', []))\n",
    "print(df)"
   ]
  },
  {
   "cell_type": "code",
   "execution_count": 76,
   "metadata": {},
   "outputs": [
    {
     "data": {
      "text/html": [
       "<div>\n",
       "<style scoped>\n",
       "    .dataframe tbody tr th:only-of-type {\n",
       "        vertical-align: middle;\n",
       "    }\n",
       "\n",
       "    .dataframe tbody tr th {\n",
       "        vertical-align: top;\n",
       "    }\n",
       "\n",
       "    .dataframe thead th {\n",
       "        text-align: right;\n",
       "    }\n",
       "</style>\n",
       "<table border=\"1\" class=\"dataframe\">\n",
       "  <thead>\n",
       "    <tr style=\"text-align: right;\">\n",
       "      <th></th>\n",
       "      <th></th>\n",
       "      <th>Name of the cell</th>\n",
       "      <th>Date of cell</th>\n",
       "      <th>Did the cell happen</th>\n",
       "      <th>No. of students attended</th>\n",
       "      <th>Students attended</th>\n",
       "      <th>New students</th>\n",
       "      <th>Details of cell happening</th>\n",
       "      <th>Bible study taken by</th>\n",
       "      <th>Cell led by</th>\n",
       "      <th>Remarks</th>\n",
       "      <th></th>\n",
       "      <th></th>\n",
       "      <th></th>\n",
       "      <th></th>\n",
       "      <th>Cell list</th>\n",
       "      <th>Week number</th>\n",
       "      <th>From date</th>\n",
       "      <th>To date</th>\n",
       "    </tr>\n",
       "  </thead>\n",
       "  <tbody>\n",
       "    <tr>\n",
       "      <th>0</th>\n",
       "      <td></td>\n",
       "      <td>Sethu baskara school cell</td>\n",
       "      <td>18-7-2023</td>\n",
       "      <td>Yes</td>\n",
       "      <td>9</td>\n",
       "      <td>Samuel, Caleb Juda, Joshua, Calvin, Jabez</td>\n",
       "      <td>Everyone new student</td>\n",
       "      <td>Singing, Practical talk, Activity</td>\n",
       "      <td>Staff/ Ministrial assistant</td>\n",
       "      <td>Staff/Ministrial assistant</td>\n",
       "      <td></td>\n",
       "      <td></td>\n",
       "      <td></td>\n",
       "      <td></td>\n",
       "      <td></td>\n",
       "      <td>Mar Gregorious college cell</td>\n",
       "      <td>29</td>\n",
       "      <td>18-7-2023</td>\n",
       "      <td>None</td>\n",
       "    </tr>\n",
       "    <tr>\n",
       "      <th>1</th>\n",
       "      <td></td>\n",
       "      <td>Emmanuel methodist church cell</td>\n",
       "      <td>16-7-2023</td>\n",
       "      <td>No</td>\n",
       "      <td></td>\n",
       "      <td></td>\n",
       "      <td></td>\n",
       "      <td></td>\n",
       "      <td></td>\n",
       "      <td></td>\n",
       "      <td>Youth members didn't turn up.</td>\n",
       "      <td></td>\n",
       "      <td></td>\n",
       "      <td></td>\n",
       "      <td></td>\n",
       "      <td>St. Thomas college boys cell</td>\n",
       "      <td>29</td>\n",
       "      <td>16-7-2023</td>\n",
       "      <td>None</td>\n",
       "    </tr>\n",
       "    <tr>\n",
       "      <th>2</th>\n",
       "      <td></td>\n",
       "      <td>Emmanuel methodist church cell</td>\n",
       "      <td>9-7-2023</td>\n",
       "      <td>No</td>\n",
       "      <td></td>\n",
       "      <td></td>\n",
       "      <td></td>\n",
       "      <td></td>\n",
       "      <td></td>\n",
       "      <td></td>\n",
       "      <td>We couldn't go to church.</td>\n",
       "      <td></td>\n",
       "      <td></td>\n",
       "      <td></td>\n",
       "      <td></td>\n",
       "      <td>Korattur area boys cell</td>\n",
       "      <td>28</td>\n",
       "      <td>9-7-2023</td>\n",
       "      <td>None</td>\n",
       "    </tr>\n",
       "    <tr>\n",
       "      <th>3</th>\n",
       "      <td></td>\n",
       "      <td>Sethu baskara school cell</td>\n",
       "      <td>25-7-2023</td>\n",
       "      <td>Yes</td>\n",
       "      <td>10</td>\n",
       "      <td>Samuel, Caleb Juda, Calvin, Jabez</td>\n",
       "      <td>3 new students \\n1.Thirumalai Vasan (Non-belie...</td>\n",
       "      <td>Singing, Bible study, Activity</td>\n",
       "      <td>Staff/ Ministrial assistant</td>\n",
       "      <td>Staff/Ministrial assistant</td>\n",
       "      <td></td>\n",
       "      <td></td>\n",
       "      <td></td>\n",
       "      <td></td>\n",
       "      <td></td>\n",
       "      <td>Emmanuel methodist school cell</td>\n",
       "      <td>30</td>\n",
       "      <td>7/25/2023</td>\n",
       "      <td>None</td>\n",
       "    </tr>\n",
       "    <tr>\n",
       "      <th>4</th>\n",
       "      <td></td>\n",
       "      <td>St. Thomas college boys cell</td>\n",
       "      <td>1-8-2023</td>\n",
       "      <td>Yes</td>\n",
       "      <td>3</td>\n",
       "      <td>Calvin, Sam Abishek</td>\n",
       "      <td>One new student ( Richard Sam) believer</td>\n",
       "      <td>Singing, Sharing time, Bible study, Activity</td>\n",
       "      <td>Staff/ Ministrial assistant</td>\n",
       "      <td>Student</td>\n",
       "      <td></td>\n",
       "      <td></td>\n",
       "      <td></td>\n",
       "      <td></td>\n",
       "      <td></td>\n",
       "      <td>Nazarene church cell</td>\n",
       "      <td>31</td>\n",
       "      <td>1-8-2023</td>\n",
       "      <td>None</td>\n",
       "    </tr>\n",
       "    <tr>\n",
       "      <th>...</th>\n",
       "      <td>...</td>\n",
       "      <td>...</td>\n",
       "      <td>...</td>\n",
       "      <td>...</td>\n",
       "      <td>...</td>\n",
       "      <td>...</td>\n",
       "      <td>...</td>\n",
       "      <td>...</td>\n",
       "      <td>...</td>\n",
       "      <td>...</td>\n",
       "      <td>...</td>\n",
       "      <td>...</td>\n",
       "      <td>...</td>\n",
       "      <td>...</td>\n",
       "      <td>...</td>\n",
       "      <td>...</td>\n",
       "      <td>...</td>\n",
       "      <td>...</td>\n",
       "      <td>...</td>\n",
       "    </tr>\n",
       "    <tr>\n",
       "      <th>990</th>\n",
       "      <td></td>\n",
       "      <td></td>\n",
       "      <td></td>\n",
       "      <td></td>\n",
       "      <td></td>\n",
       "      <td></td>\n",
       "      <td></td>\n",
       "      <td></td>\n",
       "      <td></td>\n",
       "      <td></td>\n",
       "      <td></td>\n",
       "      <td></td>\n",
       "      <td></td>\n",
       "      <td></td>\n",
       "      <td></td>\n",
       "      <td></td>\n",
       "      <td>52</td>\n",
       "      <td>None</td>\n",
       "      <td>None</td>\n",
       "    </tr>\n",
       "    <tr>\n",
       "      <th>991</th>\n",
       "      <td></td>\n",
       "      <td></td>\n",
       "      <td></td>\n",
       "      <td></td>\n",
       "      <td></td>\n",
       "      <td></td>\n",
       "      <td></td>\n",
       "      <td></td>\n",
       "      <td></td>\n",
       "      <td></td>\n",
       "      <td></td>\n",
       "      <td></td>\n",
       "      <td></td>\n",
       "      <td></td>\n",
       "      <td></td>\n",
       "      <td></td>\n",
       "      <td>52</td>\n",
       "      <td>None</td>\n",
       "      <td>None</td>\n",
       "    </tr>\n",
       "    <tr>\n",
       "      <th>992</th>\n",
       "      <td></td>\n",
       "      <td></td>\n",
       "      <td></td>\n",
       "      <td></td>\n",
       "      <td></td>\n",
       "      <td></td>\n",
       "      <td></td>\n",
       "      <td></td>\n",
       "      <td></td>\n",
       "      <td></td>\n",
       "      <td></td>\n",
       "      <td></td>\n",
       "      <td></td>\n",
       "      <td></td>\n",
       "      <td></td>\n",
       "      <td></td>\n",
       "      <td>52</td>\n",
       "      <td>None</td>\n",
       "      <td>None</td>\n",
       "    </tr>\n",
       "    <tr>\n",
       "      <th>993</th>\n",
       "      <td></td>\n",
       "      <td></td>\n",
       "      <td></td>\n",
       "      <td></td>\n",
       "      <td></td>\n",
       "      <td></td>\n",
       "      <td></td>\n",
       "      <td></td>\n",
       "      <td></td>\n",
       "      <td></td>\n",
       "      <td></td>\n",
       "      <td></td>\n",
       "      <td></td>\n",
       "      <td></td>\n",
       "      <td></td>\n",
       "      <td></td>\n",
       "      <td>52</td>\n",
       "      <td>None</td>\n",
       "      <td>None</td>\n",
       "    </tr>\n",
       "    <tr>\n",
       "      <th>994</th>\n",
       "      <td></td>\n",
       "      <td></td>\n",
       "      <td></td>\n",
       "      <td></td>\n",
       "      <td></td>\n",
       "      <td></td>\n",
       "      <td></td>\n",
       "      <td></td>\n",
       "      <td></td>\n",
       "      <td></td>\n",
       "      <td></td>\n",
       "      <td></td>\n",
       "      <td></td>\n",
       "      <td></td>\n",
       "      <td></td>\n",
       "      <td></td>\n",
       "      <td>52</td>\n",
       "      <td>None</td>\n",
       "      <td>None</td>\n",
       "    </tr>\n",
       "  </tbody>\n",
       "</table>\n",
       "<p>995 rows × 19 columns</p>\n",
       "</div>"
      ],
      "text/plain": [
       "0                     Name of the cell Date of cell  Did the cell happen  \\\n",
       "0            Sethu baskara school cell     18-7-2023                 Yes   \n",
       "1       Emmanuel methodist church cell     16-7-2023                  No   \n",
       "2       Emmanuel methodist church cell      9-7-2023                  No   \n",
       "3            Sethu baskara school cell     25-7-2023                 Yes   \n",
       "4         St. Thomas college boys cell      1-8-2023                 Yes   \n",
       "..  ..                             ...           ...                 ...   \n",
       "990                                                                        \n",
       "991                                                                        \n",
       "992                                                                        \n",
       "993                                                                        \n",
       "994                                                                        \n",
       "\n",
       "0   No. of students attended                          Students attended  \\\n",
       "0                          9  Samuel, Caleb Juda, Joshua, Calvin, Jabez   \n",
       "1                                                                         \n",
       "2                                                                         \n",
       "3                         10          Samuel, Caleb Juda, Calvin, Jabez   \n",
       "4                          3                        Calvin, Sam Abishek   \n",
       "..                       ...                                        ...   \n",
       "990                                                                       \n",
       "991                                                                       \n",
       "992                                                                       \n",
       "993                                                                       \n",
       "994                                                                       \n",
       "\n",
       "0                                         New students  \\\n",
       "0                                Everyone new student    \n",
       "1                                                        \n",
       "2                                                        \n",
       "3    3 new students \\n1.Thirumalai Vasan (Non-belie...   \n",
       "4              One new student ( Richard Sam) believer   \n",
       "..                                                 ...   \n",
       "990                                                      \n",
       "991                                                      \n",
       "992                                                      \n",
       "993                                                      \n",
       "994                                                      \n",
       "\n",
       "0                       Details of cell happening  \\\n",
       "0               Singing, Practical talk, Activity   \n",
       "1                                                   \n",
       "2                                                   \n",
       "3                  Singing, Bible study, Activity   \n",
       "4    Singing, Sharing time, Bible study, Activity   \n",
       "..                                            ...   \n",
       "990                                                 \n",
       "991                                                 \n",
       "992                                                 \n",
       "993                                                 \n",
       "994                                                 \n",
       "\n",
       "0           Bible study taken by                 Cell led by  \\\n",
       "0    Staff/ Ministrial assistant  Staff/Ministrial assistant   \n",
       "1                                                              \n",
       "2                                                              \n",
       "3    Staff/ Ministrial assistant  Staff/Ministrial assistant   \n",
       "4    Staff/ Ministrial assistant                     Student   \n",
       "..                           ...                         ...   \n",
       "990                                                            \n",
       "991                                                            \n",
       "992                                                            \n",
       "993                                                            \n",
       "994                                                            \n",
       "\n",
       "0                          Remarks              \\\n",
       "0                                                \n",
       "1    Youth members didn't turn up.               \n",
       "2        We couldn't go to church.               \n",
       "3                                                \n",
       "4                                                \n",
       "..                             ... .. .. .. ..   \n",
       "990                                              \n",
       "991                                              \n",
       "992                                              \n",
       "993                                              \n",
       "994                                              \n",
       "\n",
       "0                         Cell list Week number  From date To date  \n",
       "0       Mar Gregorious college cell          29  18-7-2023    None  \n",
       "1      St. Thomas college boys cell          29  16-7-2023    None  \n",
       "2           Korattur area boys cell          28   9-7-2023    None  \n",
       "3    Emmanuel methodist school cell          30  7/25/2023    None  \n",
       "4              Nazarene church cell          31   1-8-2023    None  \n",
       "..                              ...         ...        ...     ...  \n",
       "990                                          52       None    None  \n",
       "991                                          52       None    None  \n",
       "992                                          52       None    None  \n",
       "993                                          52       None    None  \n",
       "994                                          52       None    None  \n",
       "\n",
       "[995 rows x 19 columns]"
      ]
     },
     "execution_count": 76,
     "metadata": {},
     "output_type": "execute_result"
    }
   ],
   "source": [
    "df.columns = df.iloc[0]\n",
    "df = df.iloc[1:].reset_index(drop=True)\n",
    "df"
   ]
  },
  {
   "cell_type": "code",
   "execution_count": 77,
   "metadata": {
    "id": "0UV5_eDb8Fm2"
   },
   "outputs": [],
   "source": [
    "dates = df['Date of cell ']"
   ]
  },
  {
   "cell_type": "code",
   "execution_count": 78,
   "metadata": {
    "colab": {
     "base_uri": "https://localhost:8080/"
    },
    "id": "cDnjj6Pi8SZD",
    "outputId": "b8c9caa5-a5c6-412e-8e48-496a6e2164e8"
   },
   "outputs": [
    {
     "data": {
      "text/plain": [
       "pandas.core.series.Series"
      ]
     },
     "execution_count": 78,
     "metadata": {},
     "output_type": "execute_result"
    }
   ],
   "source": [
    "type(dates)"
   ]
  },
  {
   "cell_type": "code",
   "execution_count": 79,
   "metadata": {
    "id": "L3X6bUVA8jqr"
   },
   "outputs": [],
   "source": [
    "import numpy as np\n",
    "dates = np.array(dates)\n"
   ]
  },
  {
   "cell_type": "code",
   "execution_count": 80,
   "metadata": {
    "colab": {
     "base_uri": "https://localhost:8080/"
    },
    "id": "LNBch9hJ8tEA",
    "outputId": "38f23dd3-72b7-4229-fe2a-e91d3f1f2597"
   },
   "outputs": [
    {
     "data": {
      "text/plain": [
       "array(['29', '29', '28', '30', '31', '31', '31', '32', '32', '33', '34',\n",
       "       '33', '34', '34', '35', '36', '35', '36', '37', '36', '36', '38',\n",
       "       '37', '39', '40', '40', '40', '40', '38', '39', '52', '40', '39',\n",
       "       '38', '40', '38', '41', '41', '40', '40', '39', '38', '37', '41',\n",
       "       '41', '40', '40', '36', '41', '39', '38', '52', '52', '52', '52',\n",
       "       '52', '52', '52', '52', '52', '52', '52', '52', '52', '52', '52',\n",
       "       '52', '52', '52', '52', '52', '52', '52', '52', '52', '52', '52',\n",
       "       '52', '52', '52', '52', '52', '52', '52', '52', '52', '52', '52',\n",
       "       '52', '52', '52', '52', '52', '52', '52', '52', '52', '52', '52',\n",
       "       '52', '52', '52', '52', '52', '52', '52', '52', '52', '52', '52',\n",
       "       '52', '52', '52', '52', '52', '52', '52', '52', '52', '52', '52',\n",
       "       '52', '52', '52', '52', '52', '52', '52', '52', '52', '52', '52',\n",
       "       '52', '52', '52', '52', '52', '52', '52', '52', '52', '52', '52',\n",
       "       '52', '52', '52', '52', '52', '52', '52', '52', '52', '52', '52',\n",
       "       '52', '52', '52', '52', '52', '52', '52', '52', '52', '52', '52',\n",
       "       '52', '52', '52', '52', '52', '52', '52', '52', '52', '52', '52',\n",
       "       '52', '52', '52', '52', '52', '52', '52', '52', '52', '52', '52',\n",
       "       '52', '52', '52', '52', '52', '52', '52', '52', '52', '52', '52',\n",
       "       '52', '52', '52', '52', '52', '52', '52', '52', '52', '52', '52',\n",
       "       '52', '52', '52', '52', '52', '52', '52', '52', '52', '52', '52',\n",
       "       '52', '52', '52', '52', '52', '52', '52', '52', '52', '52', '52',\n",
       "       '52', '52', '52', '52', '52', '52', '52', '52', '52', '52', '52',\n",
       "       '52', '52', '52', '52', '52', '52', '52', '52', '52', '52', '52',\n",
       "       '52', '52', '52', '52', '52', '52', '52', '52', '52', '52', '52',\n",
       "       '52', '52', '52', '52', '52', '52', '52', '52', '52', '52', '52',\n",
       "       '52', '52', '52', '52', '52', '52', '52', '52', '52', '52', '52',\n",
       "       '52', '52', '52', '52', '52', '52', '52', '52', '52', '52', '52',\n",
       "       '52', '52', '52', '52', '52', '52', '52', '52', '52', '52', '52',\n",
       "       '52', '52', '52', '52', '52', '52', '52', '52', '52', '52', '52',\n",
       "       '52', '52', '52', '52', '52', '52', '52', '52', '52', '52', '52',\n",
       "       '52', '52', '52', '52', '52', '52', '52', '52', '52', '52', '52',\n",
       "       '52', '52', '52', '52', '52', '52', '52', '52', '52', '52', '52',\n",
       "       '52', '52', '52', '52', '52', '52', '52', '52', '52', '52', '52',\n",
       "       '52', '52', '52', '52', '52', '52', '52', '52', '52', '52', '52',\n",
       "       '52', '52', '52', '52', '52', '52', '52', '52', '52', '52', '52',\n",
       "       '52', '52', '52', '52', '52', '52', '52', '52', '52', '52', '52',\n",
       "       '52', '52', '52', '52', '52', '52', '52', '52', '52', '52', '52',\n",
       "       '52', '52', '52', '52', '52', '52', '52', '52', '52', '52', '52',\n",
       "       '52', '52', '52', '52', '52', '52', '52', '52', '52', '52', '52',\n",
       "       '52', '52', '52', '52', '52', '52', '52', '52', '52', '52', '52',\n",
       "       '52', '52', '52', '52', '52', '52', '52', '52', '52', '52', '52',\n",
       "       '52', '52', '52', '52', '52', '52', '52', '52', '52', '52', '52',\n",
       "       '52', '52', '52', '52', '52', '52', '52', '52', '52', '52', '52',\n",
       "       '52', '52', '52', '52', '52', '52', '52', '52', '52', '52', '52',\n",
       "       '52', '52', '52', '52', '52', '52', '52', '52', '52', '52', '52',\n",
       "       '52', '52', '52', '52', '52', '52', '52', '52', '52', '52', '52',\n",
       "       '52', '52', '52', '52', '52', '52', '52', '52', '52', '52', '52',\n",
       "       '52', '52', '52', '52', '52', '52', '52', '52', '52', '52', '52',\n",
       "       '52', '52', '52', '52', '52', '52', '52', '52', '52', '52', '52',\n",
       "       '52', '52', '52', '52', '52', '52', '52', '52', '52', '52', '52',\n",
       "       '52', '52', '52', '52', '52', '52', '52', '52', '52', '52', '52',\n",
       "       '52', '52', '52', '52', '52', '52', '52', '52', '52', '52', '52',\n",
       "       '52', '52', '52', '52', '52', '52', '52', '52', '52', '52', '52',\n",
       "       '52', '52', '52', '52', '52', '52', '52', '52', '52', '52', '52',\n",
       "       '52', '52', '52', '52', '52', '52', '52', '52', '52', '52', '52',\n",
       "       '52', '52', '52', '52', '52', '52', '52', '52', '52', '52', '52',\n",
       "       '52', '52', '52', '52', '52', '52', '52', '52', '52', '52', '52',\n",
       "       '52', '52', '52', '52', '52', '52', '52', '52', '52', '52', '52',\n",
       "       '52', '52', '52', '52', '52', '52', '52', '52', '52', '52', '52',\n",
       "       '52', '52', '52', '52', '52', '52', '52', '52', '52', '52', '52',\n",
       "       '52', '52', '52', '52', '52', '52', '52', '52', '52', '52', '52',\n",
       "       '52', '52', '52', '52', '52', '52', '52', '52', '52', '52', '52',\n",
       "       '52', '52', '52', '52', '52', '52', '52', '52', '52', '52', '52',\n",
       "       '52', '52', '52', '52', '52', '52', '52', '52', '52', '52', '52',\n",
       "       '52', '52', '52', '52', '52', '52', '52', '52', '52', '52', '52',\n",
       "       '52', '52', '52', '52', '52', '52', '52', '52', '52', '52', '52',\n",
       "       '52', '52', '52', '52', '52', '52', '52', '52', '52', '52', '52',\n",
       "       '52', '52', '52', '52', '52', '52', '52', '52', '52', '52', '52',\n",
       "       '52', '52', '52', '52', '52', '52', '52', '52', '52', '52', '52',\n",
       "       '52', '52', '52', '52', '52', '52', '52', '52', '52', '52', '52',\n",
       "       '52', '52', '52', '52', '52', '52', '52', '52', '52', '52', '52',\n",
       "       '52', '52', '52', '52', '52', '52', '52', '52', '52', '52', '52',\n",
       "       '52', '52', '52', '52', '52', '52', '52', '52', '52', '52', '52',\n",
       "       '52', '52', '52', '52', '52', '52', '52', '52', '52', '52', '52',\n",
       "       '52', '52', '52', '52', '52', '52', '52', '52', '52', '52', '52',\n",
       "       '52', '52', '52', '52', '52', '52', '52', '52', '52', '52', '52',\n",
       "       '52', '52', '52', '52', '52', '52', '52', '52', '52', '52', '52',\n",
       "       '52', '52', '52', '52', '52', '52', '52', '52', '52', '52', '52',\n",
       "       '52', '52', '52', '52', '52', '52', '52', '52', '52', '52', '52',\n",
       "       '52', '52', '52', '52', '52', '52', '52', '52', '52', '52', '52',\n",
       "       '52', '52', '52', '52', '52', '52', '52', '52', '52', '52', '52',\n",
       "       '52', '52', '52', '52', '52', '52', '52', '52', '52', '52', '52',\n",
       "       '52', '52', '52', '52', '52', '52', '52', '52', '52', '52', '52',\n",
       "       '52', '52', '52', '52', '52', '52', '52', '52', '52', '52', '52',\n",
       "       '52', '52', '52', '52', '52', '52', '52', '52', '52', '52', '52',\n",
       "       '52', '52', '52', '52', '52', '52', '52', '52', '52', '52', '52',\n",
       "       '52', '52', '52', '52', '52', '52', '52', '52', '52', '52', '52',\n",
       "       '52', '52', '52', '52', '52', '52', '52', '52', '52', '52', '52',\n",
       "       '52', '52', '52', '52', '52', '52', '52', '52', '52', '52', '52',\n",
       "       '52', '52', '52', '52', '52', '52', '52', '52', '52', '52', '52',\n",
       "       '52', '52', '52', '52', '52'], dtype=object)"
      ]
     },
     "execution_count": 80,
     "metadata": {},
     "output_type": "execute_result"
    }
   ],
   "source": [
    "# dates = list(filter(None,dates))\n",
    "\n",
    "weeks = np.array(df['Week number'])\n",
    "# weeks = list(filter(None,weeks))\n",
    "weeks"
   ]
  },
  {
   "cell_type": "code",
   "execution_count": 81,
   "metadata": {
    "id": "FsiBMTtE89ew"
   },
   "outputs": [],
   "source": [
    "cells = np.array(df['Name of the cell'])"
   ]
  },
  {
   "cell_type": "code",
   "execution_count": 82,
   "metadata": {
    "colab": {
     "base_uri": "https://localhost:8080/"
    },
    "id": "j-nkaI8U-aoa",
    "outputId": "06c03c8e-3435-4b9a-b63c-4e86a58646c9"
   },
   "outputs": [],
   "source": [
    "# cells = list(filter(None,cells))"
   ]
  },
  {
   "cell_type": "code",
   "execution_count": 83,
   "metadata": {
    "id": "6zzjNUmD_JAt"
   },
   "outputs": [],
   "source": [
    "did_it_take_place =  df['Did the cell happen']"
   ]
  },
  {
   "cell_type": "code",
   "execution_count": 84,
   "metadata": {},
   "outputs": [],
   "source": [
    "sept_1 = []\n",
    "sept_2 = []\n",
    "sept_3 = []\n",
    "sept_4 = []\n",
    "oct_1 = []\n",
    "\n",
    "for i in range (len(dates)):\n",
    "    if weeks[i] == '36':\n",
    "            sept_1.append(df.iloc[i,:10])\n",
    "    elif weeks[i] == '37':\n",
    "            sept_2.append(df.iloc[i,:10])\n",
    "    elif weeks[i] == '38':\n",
    "            sept_3.append(df.iloc[i,:10])\n",
    "    elif weeks[i] == '39':\n",
    "            sept_4.append(df.iloc[i,:10])\n",
    "    elif weeks[i] == '40':\n",
    "            oct_1.append(df.iloc[i,:10])\n",
    "    "
   ]
  },
  {
   "cell_type": "code",
   "execution_count": 85,
   "metadata": {},
   "outputs": [],
   "source": [
    "September = {'Week 1':sept_1, 'Week 2':sept_2, 'Week 3':sept_3, 'Week 4':sept_4}"
   ]
  },
  {
   "cell_type": "code",
   "execution_count": 86,
   "metadata": {},
   "outputs": [
    {
     "data": {
      "text/plain": [
       "{'Week 1': [0\n",
       "                                                                 \n",
       "  Name of the cell                      Sethu baskara school cell\n",
       "  Date of cell                                           5-9-2023\n",
       "  Did the cell happen                                         Yes\n",
       "  No. of students attended                                      7\n",
       "  Students attended            Samuel, Caleb Juda, Joshua, Calvin\n",
       "  New students                                              Aron \n",
       "  Details of cell happening        Singing, Bible study, Activity\n",
       "  Bible study taken by                                   Graduate\n",
       "  Cell led by                          Staff/Ministrial assistant\n",
       "  Name: 15, dtype: object,\n",
       "  0\n",
       "                                                                                \n",
       "  Name of the cell                                Emmanuel methodist church cell\n",
       "  Date of cell                                                          3-9-2023\n",
       "  Did the cell happen                                                        Yes\n",
       "  No. of students attended                                                     5\n",
       "  Students attended                       Joshua, Ruby, Prakash, Vignesh, Shoben\n",
       "  New students                 Old member name not in the list - Mukilan. Nam...\n",
       "  Details of cell happening                                           Discussion\n",
       "  Bible study taken by                                            No Bible Study\n",
       "  Cell led by                                                           Graduate\n",
       "  Name: 17, dtype: object,\n",
       "  0\n",
       "                                                             \n",
       "  Name of the cell               St. Thomas college boys cell\n",
       "  Date of cell                                       5-9-2023\n",
       "  Did the cell happen                                     Yes\n",
       "  No. of students attended                                  4\n",
       "  Students attended                                    Calvin\n",
       "  New students                                               \n",
       "  Details of cell happening    Singing, Bible study, Activity\n",
       "  Bible study taken by                               Graduate\n",
       "  Cell led by                      Staff/Ministrial assistant\n",
       "  Name: 19, dtype: object,\n",
       "  0\n",
       "                                                                      \n",
       "  Name of the cell             Emmanuel Methodist School EBS Boys cell\n",
       "  Date of cell                                                6-9-2023\n",
       "  Did the cell happen                                               No\n",
       "  No. of students attended                                            \n",
       "  Students attended                                                   \n",
       "  New students                                                        \n",
       "  Details of cell happening                                           \n",
       "  Bible study taken by                                                \n",
       "  Cell led by                                                         \n",
       "  Name: 20, dtype: object,\n",
       "  0\n",
       "                                                        \n",
       "  Name of the cell             Vanagaram area girls cell\n",
       "  Date of cell                                  4-9-2023\n",
       "  Did the cell happen                                 No\n",
       "  No. of students attended                              \n",
       "  Students attended                                     \n",
       "  New students                                          \n",
       "  Details of cell happening                             \n",
       "  Bible study taken by                                  \n",
       "  Cell led by                                           \n",
       "  Name: 47, dtype: object],\n",
       " 'Week 2': [0\n",
       "                                                             \n",
       "  Name of the cell             Emmanuel methodist church cell\n",
       "  Date of cell                                      10-9-2023\n",
       "  Did the cell happen                                      No\n",
       "  No. of students attended                                   \n",
       "  Students attended                                          \n",
       "  New students                                               \n",
       "  Details of cell happening                                  \n",
       "  Bible study taken by                                       \n",
       "  Cell led by                                                \n",
       "  Name: 18, dtype: object,\n",
       "  0\n",
       "                                                                           \n",
       "  Name of the cell                              Mar Gregorious college cell\n",
       "  Date of cell                                                    15-9-2023\n",
       "  Did the cell happen                                                   Yes\n",
       "  No. of students attended                                                4\n",
       "  Students attended                       Joel Nehemiah, Rufus, Abel, Benny\n",
       "  New students                                                             \n",
       "  Details of cell happening    Singing, Sharing time, Bible study, Activity\n",
       "  Bible study taken by                                             Graduate\n",
       "  Cell led by                                                      Graduate\n",
       "  Name: 22, dtype: object,\n",
       "  0\n",
       "                                                                            \n",
       "  Name of the cell                              Kolathur girls cell (online)\n",
       "  Date of cell                                                     16-9-2023\n",
       "  Did the cell happen                                                    Yes\n",
       "  No. of students attended                                                 4\n",
       "  Students attended            Nissi Persis, Sarah Selina, Jessica, Angeline\n",
       "  New students                                                              \n",
       "  Details of cell happening     Singing, Sharing time, Bible study, Activity\n",
       "  Bible study taken by                                              Graduate\n",
       "  Cell led by                                                       Graduate\n",
       "  Name: 42, dtype: object],\n",
       " 'Week 3': [0\n",
       "                                                                 \n",
       "  Name of the cell                       MMM college nursing cell\n",
       "  Date of cell                                          18-9-2023\n",
       "  Did the cell happen                                         Yes\n",
       "  No. of students attended                                      3\n",
       "  Students attended                                        Praisy\n",
       "  New students                                                 No\n",
       "  Details of cell happening    Singing, Sharing time, Bible study\n",
       "  Bible study taken by                Staff/ Ministrial assistant\n",
       "  Cell led by                                             Student\n",
       "  Name: 21, dtype: object,\n",
       "  0\n",
       "                                                              \n",
       "  Name of the cell              Emmanuel methodist school cell\n",
       "  Date of cell                                       22-9-2023\n",
       "  Did the cell happen                                      Yes\n",
       "  No. of students attended                                   4\n",
       "  Students attended            Rolland, Dhanush, Jabez, Kamesh\n",
       "  New students                                          No... \n",
       "  Details of cell happening               Singing, Bible study\n",
       "  Bible study taken by                                Graduate\n",
       "  Cell led by                                         Graduate\n",
       "  Name: 28, dtype: object,\n",
       "  0\n",
       "                                                                                \n",
       "  Name of the cell                                Emmanuel methodist school cell\n",
       "  Date of cell                                                         22-9-2023\n",
       "  Did the cell happen                                                        Yes\n",
       "  No. of students attended                                                     4\n",
       "  Students attended                              Rolland, Dhanush, Jabez, Kamesh\n",
       "  New students                                                                No\n",
       "  Details of cell happening    Singing, Sharing time, Bible study, Practical ...\n",
       "  Bible study taken by                               Staff/ Ministrial assistant\n",
       "  Cell led by                                                            Student\n",
       "  Name: 33, dtype: object,\n",
       "  0\n",
       "                                                                                \n",
       "  Name of the cell                                     Anna Nagar area boys cell\n",
       "  Date of cell                                                         23-9-2023\n",
       "  Did the cell happen                                                        Yes\n",
       "  No. of students attended                                                     4\n",
       "  Students attended                                                       Roshan\n",
       "  New students                                                              None\n",
       "  Details of cell happening    Singing, Sharing time, Bible study, Practical ...\n",
       "  Bible study taken by                                                  Graduate\n",
       "  Cell led by                                         Staff/Ministrial assistant\n",
       "  Name: 35, dtype: object,\n",
       "  0\n",
       "                                                                           \n",
       "  Name of the cell                             Kolathur girls cell (online)\n",
       "  Date of cell                                                    23-9-2023\n",
       "  Did the cell happen                                                   Yes\n",
       "  No. of students attended                                                3\n",
       "  Students attended                     Nissi Persis, Sarah Selina, Jessica\n",
       "  New students                                                             \n",
       "  Details of cell happening    Singing, Sharing time, Bible study, Activity\n",
       "  Bible study taken by                                             Graduate\n",
       "  Cell led by                                                       Student\n",
       "  Name: 41, dtype: object,\n",
       "  0\n",
       "                                                        \n",
       "  Name of the cell             Vanagaram area girls cell\n",
       "  Date of cell                                 17-9-2023\n",
       "  Did the cell happen                                 No\n",
       "  No. of students attended                              \n",
       "  Students attended                                     \n",
       "  New students                                          \n",
       "  Details of cell happening                             \n",
       "  Bible study taken by                                  \n",
       "  Cell led by                                           \n",
       "  Name: 50, dtype: object],\n",
       " 'Week 4': [0\n",
       "                                                        \n",
       "  Name of the cell             Sethu Baskara school cell\n",
       "  Date of cell                                 27-9-2023\n",
       "  Did the cell happen                                 No\n",
       "  No. of students attended                              \n",
       "  Students attended                                     \n",
       "  New students                                          \n",
       "  Details of cell happening                             \n",
       "  Bible study taken by                                  \n",
       "  Cell led by                                           \n",
       "  Name: 23, dtype: object,\n",
       "  0\n",
       "                                                             \n",
       "  Name of the cell             Emmanuel methodist school cell\n",
       "  Date of cell                                      29-9-2023\n",
       "  Did the cell happen                                     Yes\n",
       "  No. of students attended                                  3\n",
       "  Students attended                    Dhanush, Jabez, Kamesh\n",
       "  New students                                               \n",
       "  Details of cell happening    Singing, Bible study, Activity\n",
       "  Bible study taken by                               Graduate\n",
       "  Cell led by                                        Graduate\n",
       "  Name: 29, dtype: object,\n",
       "  0\n",
       "                                                                                \n",
       "  Name of the cell                                Emmanuel methodist school cell\n",
       "  Date of cell                                                         29-9-2023\n",
       "  Did the cell happen                                                        Yes\n",
       "  No. of students attended                                                     5\n",
       "  Students attended                     Rolland, Dhanush, Jabez, Kamesh, Thivesh\n",
       "  New students                                                                No\n",
       "  Details of cell happening    Singing, Sharing time, Practical talk, Only Sp...\n",
       "  Bible study taken by                               Staff/ Ministrial assistant\n",
       "  Cell led by                                         Staff/Ministrial assistant\n",
       "  Name: 32, dtype: object,\n",
       "  0\n",
       "                                                                           \n",
       "  Name of the cell                             Kolathur girls cell (online)\n",
       "  Date of cell                                                    30-9-2023\n",
       "  Did the cell happen                                                   Yes\n",
       "  No. of students attended                                                3\n",
       "  Students attended                         Nissi Persis, Jessica, Angeline\n",
       "  New students                                                             \n",
       "  Details of cell happening    Singing, Sharing time, Bible study, Activity\n",
       "  Bible study taken by                                             Graduate\n",
       "  Cell led by                                                       Student\n",
       "  Name: 40, dtype: object,\n",
       "  0\n",
       "                                                        \n",
       "  Name of the cell             Vanagaram area girls cell\n",
       "  Date of cell                                 24-9-2023\n",
       "  Did the cell happen                                 No\n",
       "  No. of students attended                              \n",
       "  Students attended                                     \n",
       "  New students                                          \n",
       "  Details of cell happening                             \n",
       "  Bible study taken by                                  \n",
       "  Cell led by                                           \n",
       "  Name: 49, dtype: object]}"
      ]
     },
     "execution_count": 86,
     "metadata": {},
     "output_type": "execute_result"
    }
   ],
   "source": [
    "September"
   ]
  },
  {
   "cell_type": "code",
   "execution_count": 87,
   "metadata": {},
   "outputs": [
    {
     "data": {
      "text/plain": [
       "{'Week 1': [0\n",
       "                                                                                \n",
       "  Name of the cell                                      MMM college nursing cell\n",
       "  Date of cell                                                         2-10-2023\n",
       "  Did the cell happen                                                        Yes\n",
       "  No. of students attended                                                     3\n",
       "  Students attended                                                       Praisy\n",
       "  New students                                                                No\n",
       "  Details of cell happening    Singing, Sharing time, Bible study, Practical ...\n",
       "  Bible study taken by                                                  Graduate\n",
       "  Cell led by                                                            Student\n",
       "  Name: 24, dtype: object,\n",
       "  0\n",
       "                                                                       \n",
       "  Name of the cell                         St. Thomas college boys cell\n",
       "  Date of cell                                                3-10-2023\n",
       "  Did the cell happen                                               Yes\n",
       "  No. of students attended                                            3\n",
       "  Students attended            Calvin, Richard sam, Vignesh, Paul moses\n",
       "  New students                                                    No.. \n",
       "  Details of cell happening              Singing, Bible study, Activity\n",
       "  Bible study taken by                      Staff/ Ministrial assistant\n",
       "  Cell led by                                                   Student\n",
       "  Name: 25, dtype: object,\n",
       "  0\n",
       "                                                                         \n",
       "  Name of the cell                              Sethu baskara school cell\n",
       "  Date of cell                                                  3-10-2023\n",
       "  Did the cell happen                                                 Yes\n",
       "  No. of students attended                                              8\n",
       "  Students attended            Steve, Allen, Immanuel, Samuel, Juda, Paul\n",
       "  New students                                                    Logesh \n",
       "  Details of cell happening             Singing, Practical talk, Activity\n",
       "  Bible study taken by                        Staff/ Ministrial assistant\n",
       "  Cell led by                                                    Graduate\n",
       "  Name: 26, dtype: object,\n",
       "  0\n",
       "                                                                                \n",
       "  Name of the cell                       Emmanuel Methodist School EBS Boys cell\n",
       "  Date of cell                                                         4-10-2023\n",
       "  Did the cell happen                                                        Yes\n",
       "  No. of students attended                                                    15\n",
       "  Students attended            Rishe, Sundar, Raj Kumar, Mohan Kumar, Sivapra...\n",
       "  New students                                                            No... \n",
       "  Details of cell happening                       Singing, Bible study, Activity\n",
       "  Bible study taken by                                Staff/Ministrial assistant\n",
       "  Cell led by                                         Staff/Ministrial assistant\n",
       "  Name: 27, dtype: object,\n",
       "  0\n",
       "                                                                           \n",
       "  Name of the cell                           Emmanuel methodist school cell\n",
       "  Date of cell                                                    6-10-2023\n",
       "  Did the cell happen                                                   Yes\n",
       "  No. of students attended                                                4\n",
       "  Students attended                         Rolland, Dhanush, Jabez, Kamesh\n",
       "  New students                                                           No\n",
       "  Details of cell happening    Singing, Sharing time, Bible study, Activity\n",
       "  Bible study taken by                          Staff/ Ministrial assistant\n",
       "  Cell led by                                    Staff/Ministrial assistant\n",
       "  Name: 31, dtype: object,\n",
       "  0\n",
       "                                                                       \n",
       "  Name of the cell                              Korattur area boys cell\n",
       "  Date of cell                                                7-10-2023\n",
       "  Did the cell happen                                               Yes\n",
       "  No. of students attended                                            3\n",
       "  Students attended            Sharon Raj, Paul Theophilus, Neil Marcus\n",
       "  New students                                                       No\n",
       "  Details of cell happening        Singing, Bible study, Practical talk\n",
       "  Bible study taken by                      Staff/ Ministrial assistant\n",
       "  Cell led by                                                  Graduate\n",
       "  Name: 34, dtype: object,\n",
       "  0\n",
       "                                                       \n",
       "  Name of the cell             Vanagaram area boys cell\n",
       "  Date of cell                                2-10-2023\n",
       "  Did the cell happen                                No\n",
       "  No. of students attended                             \n",
       "  Students attended                                    \n",
       "  New students                                         \n",
       "  Details of cell happening                            \n",
       "  Bible study taken by                                 \n",
       "  Cell led by                                          \n",
       "  Name: 38, dtype: object,\n",
       "  0\n",
       "                                                           \n",
       "  Name of the cell             Kolathur girls cell (online)\n",
       "  Date of cell                                    7-10-2023\n",
       "  Did the cell happen                                    No\n",
       "  No. of students attended                                 \n",
       "  Students attended                                        \n",
       "  New students                                             \n",
       "  Details of cell happening                                \n",
       "  Bible study taken by                                     \n",
       "  Cell led by                                              \n",
       "  Name: 39, dtype: object,\n",
       "  0\n",
       "                                                                                \n",
       "  Name of the cell                                     Anna Nagar area boys cell\n",
       "  Date of cell                                                         5-10-2023\n",
       "  Did the cell happen                                                        Yes\n",
       "  No. of students attended                                                     4\n",
       "  Students attended                                                       Roshan\n",
       "  New students                                                                  \n",
       "  Details of cell happening    Singing, Sharing time, Bible study, Practical ...\n",
       "  Bible study taken by                                                  Graduate\n",
       "  Cell led by                                                           Graduate\n",
       "  Name: 45, dtype: object,\n",
       "  0\n",
       "                                                                 \n",
       "  Name of the cell                       Anna Adarsh college cell\n",
       "  Date of cell                                          5-10-2023\n",
       "  Did the cell happen                                         Yes\n",
       "  No. of students attended                                      2\n",
       "  Students attended                                 Blessy, Agnes\n",
       "  New students                                                 No\n",
       "  Details of cell happening    Singing, Sharing time, Bible study\n",
       "  Bible study taken by                Staff/ Ministrial assistant\n",
       "  Cell led by                          Staff/Ministrial assistant\n",
       "  Name: 46, dtype: object]}"
      ]
     },
     "execution_count": 87,
     "metadata": {},
     "output_type": "execute_result"
    }
   ],
   "source": [
    "October = {'Week 1':oct_1}\n",
    "October"
   ]
  },
  {
   "cell_type": "code",
   "execution_count": 88,
   "metadata": {},
   "outputs": [
    {
     "data": {
      "text/plain": [
       "list"
      ]
     },
     "execution_count": 88,
     "metadata": {},
     "output_type": "execute_result"
    }
   ],
   "source": [
    "type(oct_1)"
   ]
  },
  {
   "cell_type": "code",
   "execution_count": 89,
   "metadata": {},
   "outputs": [
    {
     "data": {
      "text/plain": [
       "[24, 25, 26, 27, 31, 34, 38, 39, 45, 46]"
      ]
     },
     "execution_count": 89,
     "metadata": {},
     "output_type": "execute_result"
    }
   ],
   "source": [
    "values = []\n",
    "\n",
    "for i in range(len(weeks)):\n",
    "    if(int(weeks[i]) == 40):\n",
    "        values.append(i)\n",
    "values"
   ]
  },
  {
   "cell_type": "code",
   "execution_count": 90,
   "metadata": {},
   "outputs": [
    {
     "name": "stdout",
     "output_type": "stream",
     "text": [
      "-----CELLS THAT HAPPENED-----\n",
      "\n",
      "MMM college nursing cell\n",
      "St. Thomas college boys cell\n",
      "Sethu baskara school cell\n",
      "Emmanuel Methodist School EBS Boys cell\n",
      "Emmanuel methodist school cell\n",
      "Korattur area boys cell\n",
      "Anna Nagar area boys cell\n",
      "Anna Adarsh college cell\n",
      "\n",
      "\n",
      "-----CELLS THAT DIDNT HAPPEN-----\n",
      "\n",
      "Vanagaram area boys cell\n",
      "Kolathur girls cell (online)\n"
     ]
    }
   ],
   "source": [
    "print('-----CELLS THAT HAPPENED-----')\n",
    "print()\n",
    "for i in values:\n",
    "    if(did_it_take_place[i][0] == 'Y'):\n",
    "        print(cells[i])\n",
    "print()\n",
    "print()\n",
    "print('-----CELLS THAT DIDNT HAPPEN-----')\n",
    "print()\n",
    "for i in values:\n",
    "    if(did_it_take_place[i][0] == 'N'):\n",
    "        print(cells[i])"
   ]
  },
  {
   "cell_type": "code",
   "execution_count": 91,
   "metadata": {},
   "outputs": [],
   "source": [
    "cellList = df['Cell list']"
   ]
  },
  {
   "cell_type": "code",
   "execution_count": 92,
   "metadata": {},
   "outputs": [],
   "source": [
    "# cellList = list(set(list(np.array(cellList))))\n",
    "cellList = list(set(list(np.array(cellList))))"
   ]
  },
  {
   "cell_type": "code",
   "execution_count": 93,
   "metadata": {},
   "outputs": [],
   "source": [
    "cellList.remove('')"
   ]
  },
  {
   "cell_type": "code",
   "execution_count": 94,
   "metadata": {},
   "outputs": [
    {
     "data": {
      "text/plain": [
       "['MMM college nursing cell',\n",
       " 'Vanagaram area boys cell',\n",
       " 'Kolathur girls cell (online)',\n",
       " 'Anna Adarsh college cell',\n",
       " 'Sethu baskara school cell',\n",
       " 'Anna Nagar area boys cell',\n",
       " 'Pudur Area Girls cell',\n",
       " 'Vanagaram area girls cell',\n",
       " 'St. Thomas college boys cell',\n",
       " 'Mar Gregorious college cell',\n",
       " 'Emmanuel methodist school cell',\n",
       " 'Nazarene church cell',\n",
       " 'Korattur area boys cell',\n",
       " 'Emmanuel Methodist School EBS Boys cell',\n",
       " 'St. Thomas college girls cell',\n",
       " 'Emmanuel Methodist School EBS Girls cell',\n",
       " 'Valliammal college cell',\n",
       " 'Emmanuel methodist church cell']"
      ]
     },
     "execution_count": 94,
     "metadata": {},
     "output_type": "execute_result"
    }
   ],
   "source": [
    "cellList"
   ]
  },
  {
   "cell_type": "code",
   "execution_count": 95,
   "metadata": {},
   "outputs": [
    {
     "data": {
      "text/plain": [
       "'MMM college nursing cell'"
      ]
     },
     "execution_count": 95,
     "metadata": {},
     "output_type": "execute_result"
    }
   ],
   "source": [
    "oct_1[0][1]"
   ]
  },
  {
   "cell_type": "code",
   "execution_count": 96,
   "metadata": {},
   "outputs": [
    {
     "name": "stdout",
     "output_type": "stream",
     "text": [
      "10\n"
     ]
    }
   ],
   "source": [
    "print(len(oct_1))"
   ]
  },
  {
   "cell_type": "code",
   "execution_count": 97,
   "metadata": {},
   "outputs": [],
   "source": [
    "cellsOct_1 = []\n",
    "for i in range(len(oct_1)):\n",
    "    cellsOct_1.append(oct_1[i][1])"
   ]
  },
  {
   "cell_type": "code",
   "execution_count": 102,
   "metadata": {
    "scrolled": true
   },
   "outputs": [
    {
     "data": {
      "text/plain": [
       "['Pudur Area Girls cell',\n",
       " 'Vanagaram area girls cell',\n",
       " 'Mar Gregorious college cell',\n",
       " 'Nazarene church cell',\n",
       " 'St. Thomas college girls cell',\n",
       " 'Emmanuel Methodist School EBS Girls cell',\n",
       " 'Valliammal college cell',\n",
       " 'Emmanuel methodist church cell']"
      ]
     },
     "execution_count": 102,
     "metadata": {},
     "output_type": "execute_result"
    }
   ],
   "source": [
    "cells_didnt_fill_Oct_1 = [item for item in cellList if item not in cellsOct_1]\n",
    "cells_didnt_fill_Oct_1"
   ]
  },
  {
   "cell_type": "code",
   "execution_count": 100,
   "metadata": {},
   "outputs": [
    {
     "name": "stdout",
     "output_type": "stream",
     "text": [
      "0\n",
      "                                                 \n",
      "Name of the cell             Nazarene church cell\n",
      "Date of cell                            8-10-2023\n",
      "Did the cell happen                            No\n",
      "No. of students attended                         \n",
      "Students attended                                \n",
      "New students                                     \n",
      "Details of cell happening                        \n",
      "Bible study taken by                             \n",
      "Cell led by                                      \n",
      "Name: 36, dtype: object\n",
      "0\n",
      "                                                               \n",
      "Name of the cell                       Vanagaram area boys cell\n",
      "Date of cell                                          8-10-2023\n",
      "Did the cell happen                                         Yes\n",
      "No. of students attended                                      3\n",
      "Students attended                     Sam Israel, Melfin, Kevin\n",
      "New students                                                   \n",
      "Details of cell happening    Singing, Sharing time, Bible study\n",
      "Bible study taken by                                   Graduate\n",
      "Cell led by                                            Graduate\n",
      "Name: 37, dtype: object\n",
      "0\n",
      "                                                       \n",
      "Name of the cell             Mar Gregorios college cell\n",
      "Date of cell                                  9-10-2023\n",
      "Did the cell happen                                  No\n",
      "No. of students attended                               \n",
      "Students attended                                      \n",
      "New students                                           \n",
      "Details of cell happening                              \n",
      "Bible study taken by                                   \n",
      "Cell led by                                            \n",
      "Name: 43, dtype: object\n",
      "0\n",
      "                                                           \n",
      "Name of the cell             Emmanuel methodist church cell\n",
      "Date of cell                                      8-10-2023\n",
      "Did the cell happen                                      No\n",
      "No. of students attended                                   \n",
      "Students attended                                          \n",
      "New students                                               \n",
      "Details of cell happening                                  \n",
      "Bible study taken by                                       \n",
      "Cell led by                                                \n",
      "Name: 44, dtype: object\n",
      "0\n",
      "                                                      \n",
      "Name of the cell             Vanagaram area girls cell\n",
      "Date of cell                                 8-10-2023\n",
      "Did the cell happen                                 No\n",
      "No. of students attended                              \n",
      "Students attended                                     \n",
      "New students                                          \n",
      "Details of cell happening                             \n",
      "Bible study taken by                                  \n",
      "Cell led by                                           \n",
      "Name: 48, dtype: object\n"
     ]
    }
   ],
   "source": [
    "for i in range (len(weeks)):\n",
    "    if int(weeks[i]) == 41:\n",
    "            print(df.iloc[i,:10])"
   ]
  },
  {
   "cell_type": "code",
   "execution_count": 101,
   "metadata": {},
   "outputs": [],
   "source": [
    "cellsSept_1 = []\n",
    "cellsSept_2 = []\n",
    "cellsSept_3 = []\n",
    "cellsSept_4 = []\n",
    "\n",
    "\n",
    "for i in range(len(sept_1)):\n",
    "    cellsSept_1.append(sept_1[i][1])\n",
    "    \n",
    "for i in range(len(sept_2)):\n",
    "    cellsSept_2.append(sept_2[i][1])\n",
    "    \n",
    "for i in range(len(sept_3)):\n",
    "    cellsSept_3.append(sept_3[i][1])\n",
    "    \n",
    "for i in range(len(sept_4)):\n",
    "    cellsSept_4.append(sept_4[i][1])\n",
    "       "
   ]
  },
  {
   "cell_type": "code",
   "execution_count": 103,
   "metadata": {},
   "outputs": [],
   "source": [
    "cells_didnt_fill_Sept_1 = [item for item in cellList if item not in cellsSept_1]\n",
    "cells_didnt_fill_Sept_2 = [item for item in cellList if item not in cellsSept_2]\n",
    "cells_didnt_fill_Sept_3 = [item for item in cellList if item not in cellsSept_3]\n",
    "cells_didnt_fill_Sept_4 = [item for item in cellList if item not in cellsSept_4]"
   ]
  },
  {
   "cell_type": "code",
   "execution_count": 104,
   "metadata": {},
   "outputs": [
    {
     "data": {
      "text/plain": [
       "['MMM college nursing cell',\n",
       " 'Vanagaram area boys cell',\n",
       " 'Kolathur girls cell (online)',\n",
       " 'Anna Adarsh college cell',\n",
       " 'Anna Nagar area boys cell',\n",
       " 'Pudur Area Girls cell',\n",
       " 'Mar Gregorious college cell',\n",
       " 'Emmanuel methodist school cell',\n",
       " 'Nazarene church cell',\n",
       " 'Korattur area boys cell',\n",
       " 'St. Thomas college girls cell',\n",
       " 'Emmanuel Methodist School EBS Girls cell',\n",
       " 'Valliammal college cell']"
      ]
     },
     "execution_count": 104,
     "metadata": {},
     "output_type": "execute_result"
    }
   ],
   "source": [
    "cells_didnt_fill_Sept_1"
   ]
  },
  {
   "cell_type": "code",
   "execution_count": 105,
   "metadata": {},
   "outputs": [
    {
     "data": {
      "text/plain": [
       "['MMM college nursing cell',\n",
       " 'Vanagaram area boys cell',\n",
       " 'Anna Adarsh college cell',\n",
       " 'Sethu baskara school cell',\n",
       " 'Anna Nagar area boys cell',\n",
       " 'Pudur Area Girls cell',\n",
       " 'Vanagaram area girls cell',\n",
       " 'St. Thomas college boys cell',\n",
       " 'Emmanuel methodist school cell',\n",
       " 'Nazarene church cell',\n",
       " 'Korattur area boys cell',\n",
       " 'Emmanuel Methodist School EBS Boys cell',\n",
       " 'St. Thomas college girls cell',\n",
       " 'Emmanuel Methodist School EBS Girls cell',\n",
       " 'Valliammal college cell']"
      ]
     },
     "execution_count": 105,
     "metadata": {},
     "output_type": "execute_result"
    }
   ],
   "source": [
    "cells_didnt_fill_Sept_2"
   ]
  },
  {
   "cell_type": "code",
   "execution_count": 106,
   "metadata": {},
   "outputs": [
    {
     "data": {
      "text/plain": [
       "['Vanagaram area boys cell',\n",
       " 'Anna Adarsh college cell',\n",
       " 'Sethu baskara school cell',\n",
       " 'Pudur Area Girls cell',\n",
       " 'St. Thomas college boys cell',\n",
       " 'Mar Gregorious college cell',\n",
       " 'Nazarene church cell',\n",
       " 'Korattur area boys cell',\n",
       " 'Emmanuel Methodist School EBS Boys cell',\n",
       " 'St. Thomas college girls cell',\n",
       " 'Emmanuel Methodist School EBS Girls cell',\n",
       " 'Valliammal college cell',\n",
       " 'Emmanuel methodist church cell']"
      ]
     },
     "execution_count": 106,
     "metadata": {},
     "output_type": "execute_result"
    }
   ],
   "source": [
    "cells_didnt_fill_Sept_3"
   ]
  },
  {
   "cell_type": "code",
   "execution_count": 107,
   "metadata": {},
   "outputs": [
    {
     "data": {
      "text/plain": [
       "['MMM college nursing cell',\n",
       " 'Vanagaram area boys cell',\n",
       " 'Anna Adarsh college cell',\n",
       " 'Sethu baskara school cell',\n",
       " 'Anna Nagar area boys cell',\n",
       " 'Pudur Area Girls cell',\n",
       " 'St. Thomas college boys cell',\n",
       " 'Mar Gregorious college cell',\n",
       " 'Nazarene church cell',\n",
       " 'Korattur area boys cell',\n",
       " 'Emmanuel Methodist School EBS Boys cell',\n",
       " 'St. Thomas college girls cell',\n",
       " 'Emmanuel Methodist School EBS Girls cell',\n",
       " 'Valliammal college cell',\n",
       " 'Emmanuel methodist church cell']"
      ]
     },
     "execution_count": 107,
     "metadata": {},
     "output_type": "execute_result"
    }
   ],
   "source": [
    "cells_didnt_fill_Sept_4"
   ]
  },
  {
   "cell_type": "code",
   "execution_count": 108,
   "metadata": {},
   "outputs": [
    {
     "data": {
      "text/plain": [
       "['Sethu baskara school cell',\n",
       " 'Emmanuel methodist church cell',\n",
       " 'St. Thomas college boys cell',\n",
       " 'Emmanuel Methodist School EBS Boys cell',\n",
       " 'Vanagaram area girls cell']"
      ]
     },
     "execution_count": 108,
     "metadata": {},
     "output_type": "execute_result"
    }
   ],
   "source": [
    "cellsSept_1"
   ]
  },
  {
   "cell_type": "code",
   "execution_count": 109,
   "metadata": {},
   "outputs": [
    {
     "data": {
      "text/plain": [
       "['Emmanuel methodist church cell',\n",
       " 'Mar Gregorious college cell',\n",
       " 'Kolathur girls cell (online)']"
      ]
     },
     "execution_count": 109,
     "metadata": {},
     "output_type": "execute_result"
    }
   ],
   "source": [
    "cellsSept_2"
   ]
  },
  {
   "cell_type": "code",
   "execution_count": 110,
   "metadata": {},
   "outputs": [
    {
     "data": {
      "text/plain": [
       "['MMM college nursing cell',\n",
       " 'Emmanuel methodist school cell',\n",
       " 'Emmanuel methodist school cell',\n",
       " 'Anna Nagar area boys cell',\n",
       " 'Kolathur girls cell (online)',\n",
       " 'Vanagaram area girls cell']"
      ]
     },
     "execution_count": 110,
     "metadata": {},
     "output_type": "execute_result"
    }
   ],
   "source": [
    "cellsSept_3"
   ]
  },
  {
   "cell_type": "code",
   "execution_count": 111,
   "metadata": {},
   "outputs": [
    {
     "data": {
      "text/plain": [
       "['Sethu Baskara school cell',\n",
       " 'Emmanuel methodist school cell',\n",
       " 'Emmanuel methodist school cell',\n",
       " 'Kolathur girls cell (online)',\n",
       " 'Vanagaram area girls cell']"
      ]
     },
     "execution_count": 111,
     "metadata": {},
     "output_type": "execute_result"
    }
   ],
   "source": [
    "cellsSept_4"
   ]
  },
  {
   "cell_type": "code",
   "execution_count": null,
   "metadata": {},
   "outputs": [],
   "source": []
  }
 ],
 "metadata": {
  "colab": {
   "provenance": []
  },
  "kernelspec": {
   "display_name": "Python 3 (ipykernel)",
   "language": "python",
   "name": "python3"
  },
  "language_info": {
   "codemirror_mode": {
    "name": "ipython",
    "version": 3
   },
   "file_extension": ".py",
   "mimetype": "text/x-python",
   "name": "python",
   "nbconvert_exporter": "python",
   "pygments_lexer": "ipython3",
   "version": "3.9.13"
  }
 },
 "nbformat": 4,
 "nbformat_minor": 1
}
